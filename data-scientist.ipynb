{
 "cells": [
  {
   "cell_type": "markdown",
   "id": "7acc52df-31b6-4a64-93c9-560bcd4216ea",
   "metadata": {},
   "source": [
    "### Zach Holloway &nbsp; [<img src=\"https://cdn-icons-png.flaticon.com/512/174/174857.png\" width=\"20\" height=\"20\">](https://linkedin.com/in/zach-holloway-a180841a3/)\n",
    "\n",
    "Results-driven data professional with 2+ years of experience in statistical analysis, research methodologies, market research, and quantitative modeling. Adept at leveraging Pythonic programming, data science, and machine learning techniques to drive strategic decision-making and deliver actionable insights. \n",
    "\n",
    "#### Work Experience\n",
    "\n",
    "##### **Purple Strategies LLC**, Chicago, IL\n",
    "**Research Analyst, Insights**   \n",
    "_June 2022 – Present_\n",
    "- Conducted quantitative and qualitative market research to inform strategists, paid media and creative teams, enabling highly targeted advertising campaigns\n",
    "- Developed regression models and data visualizations for time-series survey data, optimizing audience segmentation and enhancing consumer targeting strategies for advertising campaigns\n",
    "- Expedited data processing for KPI indexes by implementing efficient Python scripts, resulting in a 50% reduction in processing time\n",
    "- Implemented clean and optimal Python code for weighting, recoding, appending, and other data manipulation tasks, paving the way for a comprehensive data pipeline\n",
    "- Applied clustering algorithms to geographical data of major consumers and policy makers, identifying opportunities to streamline advertising along shipping routes \n",
    "- Produced client-ready crosstabs and quantitative reports, providing actionable insights for 10+ waves of US and global tracking surveys\n",
    "- Assisted in managing focus groups with policy and financial influencers to gather key insights on sentiment in government and financial sectors for Fortune 100 clients, informing strategic decision-making processes \n",
    "\n",
    "\n",
    "**Loyola University Chicago**, M.A. in Political Science (_August 2020 – May 2022_)\n",
    "\n",
    "#### Professional Certfications: \n",
    "\n",
    "**Data Scientist: Machine Learning** (_Issued by Codecademy on April 1, 2024_)\n",
    "https://www.codecademy.com/profiles/Zach_Holloway/certificates/8e9e59de3f924b33ad2371faf667129b\n",
    "\n",
    "SQL, Python, pandas, scikit-learn, data cleaning, hypothesis testing, statistics, data visualization, machine learning, neural networks\n",
    "\n",
    "**Foundational C# with Microsoft: Developer Certification** (_Issued by freeCodeCamp and Microsoft on February 20, 2024_) https://freecodecamp.org/certification/zholloway/foundational-c-sharp-with-microsoft\n",
    "\n",
    "C# syntax, data types, variables, operators, expressions, control flow statements, methods, classes, functions, exception handling, debugging, arrays, collections, interfaces, file input/output (I/O), LINQ, memory management\n",
    "\n",
    "**Computer Science** (_Issued by Codecademy on October 17, 2023_)\n",
    "https://www.codecademy.com/profiles/Zach_Holloway/certificates/05009c20e9174378acd37e6c2d0fbfc4\n",
    "\n",
    "Python, Data Structures, Algorithms, Git and GitHub, SQL, PostgreSQL, Computer Architecture, Discrete Math, Proofs\n",
    "\n",
    "#### Projects: \n",
    "\n",
    "**Rent Prediction:** developed a predictive model using multiple linear regression techniques in scikit-learn to accurately estimate rental prices based on key factors such as location and amenities, informing rental stragies for prospective renters and buyers \n",
    "\n",
    "**Income Classification:** logistic regression and random forests (scikit-learn) using Census data from the UCI Machine Learning Repository to predict income levels (i.e., whether an individual is likely to make more or less than $50,000)\n",
    "\n",
    "**Sentiment Analysis:** Naive Bayes classifier (scikit-learn) using a Kaggle dataset to perform text/sentiment analysis on Twitter posts, enabling real-time insights into customer opinions and preferences, inform marketing campaigns, and enhance brand reputation management strategies\n",
    "\n",
    "\n",
    "#### Key Skills:\n",
    "\n",
    "- **Data Science/Machine Learning**: relational database management, linear and logistic regression, feature engineering (hyperparameter tuning, ROC curves/AUC, GridsearchCV, L1/L2 regularization)filter/wrapper methods, K-means clustering, K-nearest neighbors, decision trees, random forests (boosting, stacking), support vector machines, recommender systems, Naive Bayes classifier, deep learning, TensorFlow, NumPy, MLOps (neptune.ai)\n",
    "\n",
    "- **Software Engineering:** HTML, CSS, object-oriented programming (OOP), Test-Driven Development (TDD), Agile software engineering, ASP.NET Core, Razor pages, Blazor, RESTful APIs, API development, Azure"
   ]
  },
  {
   "cell_type": "markdown",
   "id": "df24f5e6-f7c8-474a-b5e7-269aae396a9f",
   "metadata": {},
   "source": [
    "#### Projects: \n",
    "\n",
    "**Rent Prediction:** utilized scikit-learn to develop a multiple linear regression model to estimate rental prices based on key factors such as location and amenities.\n",
    "\n",
    "**Income Classification:** employed logistic regression and random forest classifiers on Census data (UCI Machine Learning Repository) to predict income levels (i.e., whether an individual is likely to make more or less than $50,000).\n",
    "\n",
    "**Sentiment Analysis:** implemented a Naive Bayes classifier using Twitter data from a Kaggle dataset to conduct text and sentiment analysis."
   ]
  },
  {
   "cell_type": "markdown",
   "id": "e7747758-755e-409f-b30b-92574ab3e27a",
   "metadata": {},
   "source": [
    "- **Coursework in Environmental Sustainability**: geographic information systems, QGIS, data cleaning, quality control, table operations, relational databases, remote sensing, bathymetry, spatial modeling, raster algebra, image analysis"
   ]
  },
  {
   "cell_type": "code",
   "execution_count": null,
   "id": "a5ff2a3d-916b-4b5a-89d5-01cf372d8cb7",
   "metadata": {},
   "outputs": [],
   "source": []
  }
 ],
 "metadata": {
  "kernelspec": {
   "display_name": "Python 3 (ipykernel)",
   "language": "python",
   "name": "python3"
  },
  "language_info": {
   "codemirror_mode": {
    "name": "ipython",
    "version": 3
   },
   "file_extension": ".py",
   "mimetype": "text/x-python",
   "name": "python",
   "nbconvert_exporter": "python",
   "pygments_lexer": "ipython3",
   "version": "3.10.9"
  },
  "neptune": {
   "notebookId": "9bd28127-be07-4853-ba03-1e06cac29ca2",
   "projectVersion": 2
  }
 },
 "nbformat": 4,
 "nbformat_minor": 5
}
