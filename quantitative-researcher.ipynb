{
 "cells": [
  {
   "cell_type": "markdown",
   "id": "7acc52df-31b6-4a64-93c9-560bcd4216ea",
   "metadata": {
    "tags": []
   },
   "source": [
    "### Zach Holloway &nbsp; [<img src=\"https://cdn-icons-png.flaticon.com/512/174/174857.png\" width=\"20\" height=\"20\">](https://linkedin.com/in/zach-holloway-a180841a3/)\n",
    "\n",
    "Results-driven data professional with 2 years of experience in statistical analysis, behavioral science, and market research. Adept at leveraging research frameworks, advanced data science, and machine learning tools and methods to deliver actionable insights. Proficient in entry-level back-end programming and software engineering using Python and C#. \n",
    "\n",
    "#### Work Experience\n",
    "\n",
    "##### **Purple Strategies LLC**, Chicago, IL\n",
    "**Research Analyst, Insights**   \n",
    "_June 2022 – Present_\n",
    "- Conducted quantitative and qualitative research from start-to-finish, including questionnaire writing, research design, vendor management, and end-to-end analyses.\n",
    "- Translated research findings into engaging reports, providing analysis to inform cross-functional teams on executing advertising campaigns across various paid media channels, including digital and social media, and traditional advertising.\n",
    "- Implemented clean and efficient Python code for weighting, recoding, appending, and other data management tasks, setting a robust foundation for an analysis pipeline at scale and resulting in a 50% reduction in data processing time\n",
    "- Developed data visualizations, A/B testing, and regression and classification models to identify trends and causal relationships (drivers analysis) in audience behavior, optimizing targeting strategies for client advertising campaigns.\n",
    "- Applied geolocation methods and clustering algorithms to geographical data of retail consumers and policymakers, identifying opportunities to streamline advertising along shipping routes.\n",
    "- Managed and updated a comprehensive macro datasheet in Excel incorporating VBA scripts for interactive sorting of time-series data.\n",
    "\n",
    "#### Education\n",
    "\n",
    "**Loyola University Chicago**, M.A. in Political Science, 3.80 GPA _(August 2020 - May 2022)_\n",
    "\n",
    "**Program coursework:** applied statistical methods in social and behavioral sciences, research design, causal frameworks, program evaluation, quantitative and qualitiative research in political behavior and international relations; Stata, R\n",
    "\n",
    "#### Professional and Developer Certfications: \n",
    "\n",
    "**Full-Stack Engineering**, [_Issued by **Codecademy** on May 1, 2024_](https://www.codecademy.com/profiles/Zach_Holloway/certificates/ffd0f42cce1a44e9a0108b365047a0a6)\n",
    "\n",
    "**Data Science and Machine Learning**, [_Issued by **Codecademy** on April 1, 2024_](https://www.codecademy.com/profiles/Zach_Holloway/certificates/8e9e59de3f924b33ad2371faf667129b)\n",
    "\n",
    "**Foundational C# with Microsoft**, [_Issued by **freeCodeCamp and Microsoft** on February 20, 2024_](https://freecodecamp.org/certification/zholloway/foundational-c-sharp-with-microsoft)\n",
    "\n",
    "**Computer Science**, [_Issued by **Codecademy** on October 17, 2023_](https://www.codecademy.com/profiles/Zach_Holloway/certificates/05009c20e9174378acd37e6c2d0fbfc4)\n",
    "\n",
    "#### Key Skills:\n",
    "\n",
    "**Data Science and Machine Learning**: Python, SQL\n",
    "\n",
    "pandas, NumPy, Matplotlib, seaborn, scikit-learn, database normalization, hypothesis testing, statistics, data visualization, supervised and unsupervised machine learning, feature engineering, filter and wrapper methods, hyperparameter tuning, ensemble methods, neural networks, TensorFlow, neptune.ai for MLOps    \n",
    "\n",
    "**Back-End Software Engineering**: C#, ASP.NET Core, Python, Django, PostgreSQL\n",
    "\n",
    "REST API, HTTP requests, feature testing, server testing, routing, middleware, classes, object-oriented programming, functional programming, asynchronous programming, logging, unit testing, concurrent programming, bash scripting, relational database design, data structures, algorithms, Git and GitHub, test-driven development, Agile methodologies"
   ]
  }
 ],
 "metadata": {
  "kernelspec": {
   "display_name": "Python 3 (ipykernel)",
   "language": "python",
   "name": "python3"
  },
  "language_info": {
   "codemirror_mode": {
    "name": "ipython",
    "version": 3
   },
   "file_extension": ".py",
   "mimetype": "text/x-python",
   "name": "python",
   "nbconvert_exporter": "python",
   "pygments_lexer": "ipython3",
   "version": "3.10.9"
  },
  "neptune": {
   "notebookId": "9bd28127-be07-4853-ba03-1e06cac29ca2",
   "projectVersion": 2
  }
 },
 "nbformat": 4,
 "nbformat_minor": 5
}
